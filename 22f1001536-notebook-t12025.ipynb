{
 "cells": [
  {
   "cell_type": "code",
   "execution_count": 1,
   "id": "752b0cc9",
   "metadata": {
    "_cell_guid": "b1076dfc-b9ad-4769-8c92-a6c4dae69d19",
    "_uuid": "8f2839f25d086af736a60e9eeb907d3b93b6e0e5",
    "execution": {
     "iopub.execute_input": "2025-03-12T06:00:35.438887Z",
     "iopub.status.busy": "2025-03-12T06:00:35.438585Z",
     "iopub.status.idle": "2025-03-12T06:00:36.466325Z",
     "shell.execute_reply": "2025-03-12T06:00:36.465051Z"
    },
    "papermill": {
     "duration": 1.03877,
     "end_time": "2025-03-12T06:00:36.468095",
     "exception": false,
     "start_time": "2025-03-12T06:00:35.429325",
     "status": "completed"
    },
    "tags": []
   },
   "outputs": [
    {
     "name": "stdout",
     "output_type": "stream",
     "text": [
      "/kaggle/input/System-Threat-Forecaster/sample_submission.csv\n",
      "/kaggle/input/System-Threat-Forecaster/train.csv\n",
      "/kaggle/input/System-Threat-Forecaster/test.csv\n"
     ]
    }
   ],
   "source": [
    "# This Python 3 environment comes with many helpful analytics libraries installed\n",
    "# It is defined by the kaggle/python Docker image: https://github.com/kaggle/docker-python\n",
    "# For example, here's several helpful packages to load\n",
    "\n",
    "import numpy as np # linear algebra\n",
    "import pandas as pd # data processing, CSV file I/O (e.g. pd.read_csv)\n",
    "\n",
    "# Input data files are available in the read-only \"../input/\" directory\n",
    "# For example, running this (by clicking run or pressing Shift+Enter) will list all files under the input directory\n",
    "\n",
    "import os\n",
    "for dirname, _, filenames in os.walk('/kaggle/input'):\n",
    "    for filename in filenames:\n",
    "        print(os.path.join(dirname, filename))\n",
    "\n",
    "# You can write up to 20GB to the current directory (/kaggle/working/) that gets preserved as output when you create a version using \"Save & Run All\" \n",
    "# You can also write temporary files to /kaggle/temp/, but they won't be saved outside of the current session"
   ]
  },
  {
   "cell_type": "markdown",
   "id": "cef28635",
   "metadata": {
    "papermill": {
     "duration": 0.006401,
     "end_time": "2025-03-12T06:00:36.481428",
     "exception": false,
     "start_time": "2025-03-12T06:00:36.475027",
     "status": "completed"
    },
    "tags": []
   },
   "source": [
    "# Dummy classifier"
   ]
  },
  {
   "cell_type": "code",
   "execution_count": 2,
   "id": "262e3357",
   "metadata": {
    "execution": {
     "iopub.execute_input": "2025-03-12T06:00:36.495140Z",
     "iopub.status.busy": "2025-03-12T06:00:36.494682Z",
     "iopub.status.idle": "2025-03-12T06:00:39.910307Z",
     "shell.execute_reply": "2025-03-12T06:00:39.909286Z"
    },
    "papermill": {
     "duration": 3.424426,
     "end_time": "2025-03-12T06:00:39.912121",
     "exception": false,
     "start_time": "2025-03-12T06:00:36.487695",
     "status": "completed"
    },
    "tags": []
   },
   "outputs": [],
   "source": [
    "from sklearn.dummy import DummyClassifier\n",
    "train_data = pd.read_csv(\"/kaggle/input/System-Threat-Forecaster/train.csv\")\n",
    "test_data = pd.read_csv(\"/kaggle/input/System-Threat-Forecaster/test.csv\")\n",
    "\n",
    "# dummy_X = train_data.drop(\"target\", axis = 1)\n",
    "# dummy_y = train_data[\"target\"]\n",
    "\n",
    "# classifier = DummyClassifier()\n",
    "\n",
    "# classifier.fit(dummy_X,dummy_y)\n",
    "\n",
    "# dummy_pred = classifier.predict(test_data)\n",
    "# submission = pd.DataFrame({'id': range(10000), \n",
    "#                           'target': dummy_pred})\n",
    "\n",
    "# submission.to_csv(\"submission.csv\", index=False)"
   ]
  },
  {
   "cell_type": "code",
   "execution_count": null,
   "id": "2b659c41",
   "metadata": {
    "papermill": {
     "duration": 0.005877,
     "end_time": "2025-03-12T06:00:39.924803",
     "exception": false,
     "start_time": "2025-03-12T06:00:39.918926",
     "status": "completed"
    },
    "tags": []
   },
   "outputs": [],
   "source": []
  },
  {
   "cell_type": "markdown",
   "id": "4d9ee7a5",
   "metadata": {
    "papermill": {
     "duration": 0.005786,
     "end_time": "2025-03-12T06:00:39.936670",
     "exception": false,
     "start_time": "2025-03-12T06:00:39.930884",
     "status": "completed"
    },
    "tags": []
   },
   "source": [
    "# Preprocessing Pipeline"
   ]
  },
  {
   "cell_type": "code",
   "execution_count": 3,
   "id": "f8c6d9ca",
   "metadata": {
    "execution": {
     "iopub.execute_input": "2025-03-12T06:00:39.949843Z",
     "iopub.status.busy": "2025-03-12T06:00:39.949517Z",
     "iopub.status.idle": "2025-03-12T06:00:43.146167Z",
     "shell.execute_reply": "2025-03-12T06:00:43.144999Z"
    },
    "papermill": {
     "duration": 3.204976,
     "end_time": "2025-03-12T06:00:43.147674",
     "exception": false,
     "start_time": "2025-03-12T06:00:39.942698",
     "status": "completed"
    },
    "tags": []
   },
   "outputs": [
    {
     "name": "stdout",
     "output_type": "stream",
     "text": [
      "done\n"
     ]
    }
   ],
   "source": [
    "from sklearn.compose import ColumnTransformer\n",
    "from sklearn.pipeline import Pipeline\n",
    "from sklearn.impute import SimpleImputer\n",
    "from sklearn.preprocessing import OrdinalEncoder, StandardScaler\n",
    "from sklearn.model_selection import train_test_split\n",
    "import matplotlib.pyplot as plt\n",
    "import seaborn as sns\n",
    "from sklearn.metrics import ConfusionMatrixDisplay\n",
    "\n",
    "# Separate the features as X and target as y\n",
    "X = train_data.drop(columns=['target'])\n",
    "y = train_data['target']\n",
    "\n",
    "# Define the preprocessing pipeline\n",
    "\n",
    "# Identify categorical and numeric columns\n",
    "categorical_cols = X.select_dtypes(include=['object']).columns\n",
    "numeric_cols = X.select_dtypes(exclude=['object']).columns\n",
    "\n",
    "# Define the preprocessing for numeric and categorical columns\n",
    "numeric_transformer = Pipeline(steps=[\n",
    "    ('imputer', SimpleImputer(strategy='mean')),\n",
    "    ('scaler', StandardScaler())\n",
    "])\n",
    "\n",
    "categorical_transformer = Pipeline(steps=[\n",
    "    ('imputer', SimpleImputer(strategy='most_frequent')),\n",
    "    ('encoder', OrdinalEncoder(handle_unknown='use_encoded_value', unknown_value=-1))\n",
    "])\n",
    "\n",
    "# Combine the preprocessing steps\n",
    "preprocessor = ColumnTransformer(\n",
    "    transformers=[\n",
    "        ('num', numeric_transformer, numeric_cols),\n",
    "        ('cat', categorical_transformer, categorical_cols)\n",
    "    ])\n",
    "\n",
    "# Apply the preprocessing pipeline\n",
    "X_preprocessed = preprocessor.fit_transform(X)\n",
    "test_data_preprocessed = preprocessor.transform(test_data)\n",
    "\n",
    "# Perform train test split\n",
    "X_train, X_test, y_train, y_test = train_test_split(X_preprocessed, y, test_size=0.2, random_state=42)\n",
    "\n",
    "print(\"done\")"
   ]
  },
  {
   "cell_type": "markdown",
   "id": "6acecc8d",
   "metadata": {
    "papermill": {
     "duration": 0.006046,
     "end_time": "2025-03-12T06:00:43.161258",
     "exception": false,
     "start_time": "2025-03-12T06:00:43.155212",
     "status": "completed"
    },
    "tags": []
   },
   "source": [
    "# Random Forest Classifier"
   ]
  },
  {
   "cell_type": "code",
   "execution_count": 4,
   "id": "a61f3a65",
   "metadata": {
    "execution": {
     "iopub.execute_input": "2025-03-12T06:00:43.175273Z",
     "iopub.status.busy": "2025-03-12T06:00:43.174772Z",
     "iopub.status.idle": "2025-03-12T06:00:43.178517Z",
     "shell.execute_reply": "2025-03-12T06:00:43.177671Z"
    },
    "papermill": {
     "duration": 0.012129,
     "end_time": "2025-03-12T06:00:43.179821",
     "exception": false,
     "start_time": "2025-03-12T06:00:43.167692",
     "status": "completed"
    },
    "tags": []
   },
   "outputs": [],
   "source": [
    "# import matplotlib.pyplot as plt\n",
    "# from sklearn.ensemble import RandomForestClassifier\n",
    "# from sklearn.metrics import accuracy_score, classification_report, confusion_matrix, ConfusionMatrixDisplay\n",
    "\n",
    "# # Initialize and train the Random Forest model\n",
    "# rfc_model = RandomForestClassifier(n_estimators=100, random_state=42)\n",
    "# rfc_model.fit(X_train, y_train)\n",
    "\n",
    "# # Make predictions\n",
    "# y_pred = rfc_model.predict(X_test)\n",
    "\n",
    "# # Evaluate the model\n",
    "# accuracy = accuracy_score(y_test, y_pred)\n",
    "# report = classification_report(y_test, y_pred)\n",
    "\n",
    "# print(f'Accuracy: {accuracy}')\n",
    "# print('Classification Report:')\n",
    "# print(report)\n",
    "\n",
    "# # Confusion Matrix\n",
    "# cm = confusion_matrix(y_test, y_pred)\n",
    "# disp = ConfusionMatrixDisplay(confusion_matrix=cm, display_labels=rfc_model.classes_)\n",
    "# disp.plot()\n",
    "# plt.show()\n"
   ]
  },
  {
   "cell_type": "code",
   "execution_count": 5,
   "id": "859bf9f1",
   "metadata": {
    "execution": {
     "iopub.execute_input": "2025-03-12T06:00:43.193642Z",
     "iopub.status.busy": "2025-03-12T06:00:43.193323Z",
     "iopub.status.idle": "2025-03-12T06:00:43.196682Z",
     "shell.execute_reply": "2025-03-12T06:00:43.195879Z"
    },
    "papermill": {
     "duration": 0.011845,
     "end_time": "2025-03-12T06:00:43.198134",
     "exception": false,
     "start_time": "2025-03-12T06:00:43.186289",
     "status": "completed"
    },
    "tags": []
   },
   "outputs": [],
   "source": [
    "# # Submission \n",
    "\n",
    "# pred = rfc_model.predict(test_data_preprocessed)\n",
    "# submission = pd.DataFrame({'id': range(10000), \n",
    "#                           'target': pred})\n",
    "\n",
    "# submission.to_csv(\"submission.csv\", index=False)\n",
    "# print(\"done\")"
   ]
  },
  {
   "cell_type": "markdown",
   "id": "7f7078b6",
   "metadata": {
    "papermill": {
     "duration": 0.006212,
     "end_time": "2025-03-12T06:00:43.211054",
     "exception": false,
     "start_time": "2025-03-12T06:00:43.204842",
     "status": "completed"
    },
    "tags": []
   },
   "source": [
    "# XG_Boost Classifier"
   ]
  },
  {
   "cell_type": "code",
   "execution_count": 6,
   "id": "0b38c95d",
   "metadata": {
    "execution": {
     "iopub.execute_input": "2025-03-12T06:00:43.225080Z",
     "iopub.status.busy": "2025-03-12T06:00:43.224754Z",
     "iopub.status.idle": "2025-03-12T06:00:43.228372Z",
     "shell.execute_reply": "2025-03-12T06:00:43.227486Z"
    },
    "papermill": {
     "duration": 0.012275,
     "end_time": "2025-03-12T06:00:43.229781",
     "exception": false,
     "start_time": "2025-03-12T06:00:43.217506",
     "status": "completed"
    },
    "tags": []
   },
   "outputs": [],
   "source": [
    "# import xgboost as xgb\n",
    "# import matplotlib.pyplot as plt\n",
    "# from sklearn.metrics import accuracy_score, classification_report, confusion_matrix, ConfusionMatrixDisplay\n",
    "\n",
    "# # Initialize and train the XGBoost model\n",
    "# xgboost_model = xgb.XGBClassifier(use_label_encoder=False, eval_metric=\"mlogloss\", random_state=42)\n",
    "# xgboost_model.fit(X_train, y_train)\n",
    "\n",
    "# # Make predictions\n",
    "# y_pred = xgboost_model.predict(X_test)\n",
    "\n",
    "# # Evaluate the model\n",
    "# accuracy = accuracy_score(y_test, y_pred)\n",
    "# report = classification_report(y_test, y_pred)\n",
    "\n",
    "# print(f'Accuracy: {accuracy}')\n",
    "# print('Classification Report:')\n",
    "# print(report)\n",
    "\n",
    "# # Confusion Matrix\n",
    "# cm = confusion_matrix(y_test, y_pred)\n",
    "# disp = ConfusionMatrixDisplay(confusion_matrix=cm, display_labels=xgboost_model.classes_)\n",
    "# disp.plot()\n",
    "# plt.show()\n"
   ]
  },
  {
   "cell_type": "code",
   "execution_count": 7,
   "id": "6e5e55a1",
   "metadata": {
    "execution": {
     "iopub.execute_input": "2025-03-12T06:00:43.243247Z",
     "iopub.status.busy": "2025-03-12T06:00:43.242960Z",
     "iopub.status.idle": "2025-03-12T06:00:43.246300Z",
     "shell.execute_reply": "2025-03-12T06:00:43.245456Z"
    },
    "papermill": {
     "duration": 0.011599,
     "end_time": "2025-03-12T06:00:43.247807",
     "exception": false,
     "start_time": "2025-03-12T06:00:43.236208",
     "status": "completed"
    },
    "tags": []
   },
   "outputs": [],
   "source": [
    "# # Submission \n",
    "\n",
    "# pred = xgboost_model.predict(test_data_preprocessed)\n",
    "# submission = pd.DataFrame({'id': range(10000), \n",
    "#                           'target': pred})\n",
    "\n",
    "# submission.to_csv(\"submission.csv\", index=False)\n",
    "# print(\"done\")"
   ]
  },
  {
   "cell_type": "markdown",
   "id": "6c1ee465",
   "metadata": {
    "papermill": {
     "duration": 0.005956,
     "end_time": "2025-03-12T06:00:43.260198",
     "exception": false,
     "start_time": "2025-03-12T06:00:43.254242",
     "status": "completed"
    },
    "tags": []
   },
   "source": [
    "# LightGBM"
   ]
  },
  {
   "cell_type": "code",
   "execution_count": 8,
   "id": "698e8acc",
   "metadata": {
    "execution": {
     "iopub.execute_input": "2025-03-12T06:00:43.273775Z",
     "iopub.status.busy": "2025-03-12T06:00:43.273431Z",
     "iopub.status.idle": "2025-03-12T06:00:51.557207Z",
     "shell.execute_reply": "2025-03-12T06:00:51.556297Z"
    },
    "papermill": {
     "duration": 8.292315,
     "end_time": "2025-03-12T06:00:51.558835",
     "exception": false,
     "start_time": "2025-03-12T06:00:43.266520",
     "status": "completed"
    },
    "tags": []
   },
   "outputs": [
    {
     "name": "stdout",
     "output_type": "stream",
     "text": [
      "[LightGBM] [Info] Number of positive: 40403, number of negative: 39597\n",
      "[LightGBM] [Info] Auto-choosing row-wise multi-threading, the overhead of testing was 0.018732 seconds.\n",
      "You can set `force_row_wise=true` to remove the overhead.\n",
      "And if memory is not enough, you can set `force_col_wise=true`.\n",
      "[LightGBM] [Info] Total Bins 5054\n",
      "[LightGBM] [Info] Number of data points in the train set: 80000, number of used features: 72\n",
      "[LightGBM] [Info] [binary:BoostFromScore]: pavg=0.505038 -> initscore=0.020151\n",
      "[LightGBM] [Info] Start training from score 0.020151\n",
      "Accuracy: 0.63\n",
      "Classification Report:\n",
      "              precision    recall  f1-score   support\n",
      "\n",
      "           0       0.64      0.59      0.61      9878\n",
      "           1       0.63      0.67      0.65     10122\n",
      "\n",
      "    accuracy                           0.63     20000\n",
      "   macro avg       0.63      0.63      0.63     20000\n",
      "weighted avg       0.63      0.63      0.63     20000\n",
      "\n"
     ]
    },
    {
     "data": {
      "image/png": "[encoded data removed]",
      "text/plain": [
       "<Figure size 640x480 with 2 Axes>"
      ]
     },
     "metadata": {},
     "output_type": "display_data"
    }
   ],
   "source": [
    "import lightgbm as lgb\n",
    "import matplotlib.pyplot as plt\n",
    "from sklearn.metrics import accuracy_score, classification_report, confusion_matrix, ConfusionMatrixDisplay\n",
    "\n",
    "# Initialize and train the LightGBM model\n",
    "lgbm_model = lgb.LGBMClassifier(n_estimators=500, learning_rate=0.05, max_depth=10, random_state=42)\n",
    "lgbm_model.fit(X_train, y_train)\n",
    "\n",
    "# Make predictions\n",
    "y_pred = lgbm_model.predict(X_test)\n",
    "\n",
    "# Evaluate the model\n",
    "accuracy = accuracy_score(y_test, y_pred)\n",
    "report = classification_report(y_test, y_pred)\n",
    "\n",
    "print(f'Accuracy: {accuracy}')\n",
    "print('Classification Report:')\n",
    "print(report)\n",
    "\n",
    "# Confusion Matrix\n",
    "cm = confusion_matrix(y_test, y_pred)\n",
    "disp = ConfusionMatrixDisplay(confusion_matrix=cm, display_labels=lgbm_model.classes_)\n",
    "disp.plot()\n",
    "plt.show()\n"
   ]
  },
  {
   "cell_type": "code",
   "execution_count": 9,
   "id": "a160d766",
   "metadata": {
    "execution": {
     "iopub.execute_input": "2025-03-12T06:00:51.574134Z",
     "iopub.status.busy": "2025-03-12T06:00:51.573564Z",
     "iopub.status.idle": "2025-03-12T06:00:51.744059Z",
     "shell.execute_reply": "2025-03-12T06:00:51.742860Z"
    },
    "papermill": {
     "duration": 0.179555,
     "end_time": "2025-03-12T06:00:51.745621",
     "exception": false,
     "start_time": "2025-03-12T06:00:51.566066",
     "status": "completed"
    },
    "tags": []
   },
   "outputs": [
    {
     "name": "stdout",
     "output_type": "stream",
     "text": [
      "done\n"
     ]
    }
   ],
   "source": [
    "# Submission \n",
    "\n",
    "pred = lgbm_model.predict(test_data_preprocessed)\n",
    "submission = pd.DataFrame({'id': range(10000), \n",
    "                          'target': pred})\n",
    "\n",
    "submission.to_csv(\"submission.csv\", index=False)\n",
    "print(\"done\")"
   ]
  },
  {
   "cell_type": "code",
   "execution_count": 10,
   "id": "6be9134a",
   "metadata": {
    "execution": {
     "iopub.execute_input": "2025-03-12T06:00:51.761181Z",
     "iopub.status.busy": "2025-03-12T06:00:51.760847Z",
     "iopub.status.idle": "2025-03-12T06:00:51.764352Z",
     "shell.execute_reply": "2025-03-12T06:00:51.763490Z"
    },
    "papermill": {
     "duration": 0.012923,
     "end_time": "2025-03-12T06:00:51.765792",
     "exception": false,
     "start_time": "2025-03-12T06:00:51.752869",
     "status": "completed"
    },
    "tags": []
   },
   "outputs": [],
   "source": [
    "# pd.DataFrame(train_data.isna().sum())"
   ]
  },
  {
   "cell_type": "code",
   "execution_count": 11,
   "id": "e77d712d",
   "metadata": {
    "execution": {
     "iopub.execute_input": "2025-03-12T06:00:51.781368Z",
     "iopub.status.busy": "2025-03-12T06:00:51.781047Z",
     "iopub.status.idle": "2025-03-12T06:00:51.784825Z",
     "shell.execute_reply": "2025-03-12T06:00:51.783708Z"
    },
    "papermill": {
     "duration": 0.013144,
     "end_time": "2025-03-12T06:00:51.786207",
     "exception": false,
     "start_time": "2025-03-12T06:00:51.773063",
     "status": "completed"
    },
    "tags": []
   },
   "outputs": [],
   "source": [
    "# print(\"Unique Platforms: \",train_data[\"PlatformType\"].unique())\n",
    "# print(\"Unique OS versions: \",train_data[\"OSVersion\"].unique())\n",
    "# print(\"Unique OS versions: \",train_data[\"OSVersion\"].nunique())"
   ]
  },
  {
   "cell_type": "code",
   "execution_count": 12,
   "id": "72b069d8",
   "metadata": {
    "execution": {
     "iopub.execute_input": "2025-03-12T06:00:51.801545Z",
     "iopub.status.busy": "2025-03-12T06:00:51.801152Z",
     "iopub.status.idle": "2025-03-12T06:00:51.804752Z",
     "shell.execute_reply": "2025-03-12T06:00:51.803846Z"
    },
    "papermill": {
     "duration": 0.012935,
     "end_time": "2025-03-12T06:00:51.806390",
     "exception": false,
     "start_time": "2025-03-12T06:00:51.793455",
     "status": "completed"
    },
    "tags": []
   },
   "outputs": [],
   "source": [
    "# print(max(train_data[\"NumAntivirusProductsInstalled\"]))"
   ]
  },
  {
   "cell_type": "code",
   "execution_count": 13,
   "id": "6c2a1f56",
   "metadata": {
    "execution": {
     "iopub.execute_input": "2025-03-12T06:00:51.821319Z",
     "iopub.status.busy": "2025-03-12T06:00:51.821021Z",
     "iopub.status.idle": "2025-03-12T06:00:51.824621Z",
     "shell.execute_reply": "2025-03-12T06:00:51.823872Z"
    },
    "papermill": {
     "duration": 0.012477,
     "end_time": "2025-03-12T06:00:51.825993",
     "exception": false,
     "start_time": "2025-03-12T06:00:51.813516",
     "status": "completed"
    },
    "tags": []
   },
   "outputs": [],
   "source": [
    "# train_data[\"IsGamer\"].isna().sum()"
   ]
  },
  {
   "cell_type": "code",
   "execution_count": 14,
   "id": "750f8700",
   "metadata": {
    "execution": {
     "iopub.execute_input": "2025-03-12T06:00:51.841324Z",
     "iopub.status.busy": "2025-03-12T06:00:51.841032Z",
     "iopub.status.idle": "2025-03-12T06:00:52.090544Z",
     "shell.execute_reply": "2025-03-12T06:00:52.089488Z"
    },
    "papermill": {
     "duration": 0.258753,
     "end_time": "2025-03-12T06:00:52.092077",
     "exception": false,
     "start_time": "2025-03-12T06:00:51.833324",
     "status": "completed"
    },
    "tags": []
   },
   "outputs": [
    {
     "data": {
      "text/html": [
       "<div>\n",
       "<style scoped>\n",
       "    .dataframe tbody tr th:only-of-type {\n",
       "        vertical-align: middle;\n",
       "    }\n",
       "\n",
       "    .dataframe tbody tr th {\n",
       "        vertical-align: top;\n",
       "    }\n",
       "\n",
       "    .dataframe thead th {\n",
       "        text-align: right;\n",
       "    }\n",
       "</style>\n",
       "<table border=\"1\" class=\"dataframe\">\n",
       "  <thead>\n",
       "    <tr style=\"text-align: right;\">\n",
       "      <th></th>\n",
       "      <th>IsBetaUser</th>\n",
       "      <th>RealTimeProtectionState</th>\n",
       "      <th>IsPassiveModeEnabled</th>\n",
       "      <th>AntivirusConfigID</th>\n",
       "      <th>NumAntivirusProductsInstalled</th>\n",
       "      <th>NumAntivirusProductsEnabled</th>\n",
       "      <th>HasTpm</th>\n",
       "      <th>CountryID</th>\n",
       "      <th>CityID</th>\n",
       "      <th>GeoRegionID</th>\n",
       "      <th>...</th>\n",
       "      <th>FirmwareManufacturerID</th>\n",
       "      <th>FirmwareVersionID</th>\n",
       "      <th>IsSecureBootEnabled</th>\n",
       "      <th>IsVirtualDevice</th>\n",
       "      <th>IsTouchEnabled</th>\n",
       "      <th>IsPenCapable</th>\n",
       "      <th>IsAlwaysOnAlwaysConnectedCapable</th>\n",
       "      <th>IsGamer</th>\n",
       "      <th>RegionIdentifier</th>\n",
       "      <th>target</th>\n",
       "    </tr>\n",
       "  </thead>\n",
       "  <tbody>\n",
       "    <tr>\n",
       "      <th>count</th>\n",
       "      <td>100000.0</td>\n",
       "      <td>99934.000000</td>\n",
       "      <td>100000.000000</td>\n",
       "      <td>99924.000000</td>\n",
       "      <td>99924.000000</td>\n",
       "      <td>99924.000000</td>\n",
       "      <td>100000.000000</td>\n",
       "      <td>100000.000000</td>\n",
       "      <td>99377.000000</td>\n",
       "      <td>100000.000000</td>\n",
       "      <td>...</td>\n",
       "      <td>99624.000000</td>\n",
       "      <td>99666.000000</td>\n",
       "      <td>100000.000000</td>\n",
       "      <td>99980.000000</td>\n",
       "      <td>100000.000000</td>\n",
       "      <td>100000.000000</td>\n",
       "      <td>99866.000000</td>\n",
       "      <td>99441.000000</td>\n",
       "      <td>99441.000000</td>\n",
       "      <td>100000.000000</td>\n",
       "    </tr>\n",
       "    <tr>\n",
       "      <th>mean</th>\n",
       "      <td>0.0</td>\n",
       "      <td>6.848430</td>\n",
       "      <td>0.017620</td>\n",
       "      <td>47975.710440</td>\n",
       "      <td>1.326528</td>\n",
       "      <td>1.018264</td>\n",
       "      <td>0.996780</td>\n",
       "      <td>108.078790</td>\n",
       "      <td>81029.938587</td>\n",
       "      <td>169.741630</td>\n",
       "      <td>...</td>\n",
       "      <td>401.987613</td>\n",
       "      <td>32942.648044</td>\n",
       "      <td>0.495690</td>\n",
       "      <td>0.003841</td>\n",
       "      <td>0.128470</td>\n",
       "      <td>0.040580</td>\n",
       "      <td>0.058398</td>\n",
       "      <td>0.296668</td>\n",
       "      <td>7.875866</td>\n",
       "      <td>0.505250</td>\n",
       "    </tr>\n",
       "    <tr>\n",
       "      <th>std</th>\n",
       "      <td>0.0</td>\n",
       "      <td>1.015166</td>\n",
       "      <td>0.131566</td>\n",
       "      <td>13803.321533</td>\n",
       "      <td>0.520681</td>\n",
       "      <td>0.155291</td>\n",
       "      <td>0.056654</td>\n",
       "      <td>63.062151</td>\n",
       "      <td>48944.027074</td>\n",
       "      <td>89.188929</td>\n",
       "      <td>...</td>\n",
       "      <td>221.318891</td>\n",
       "      <td>21151.970827</td>\n",
       "      <td>0.499984</td>\n",
       "      <td>0.061855</td>\n",
       "      <td>0.334614</td>\n",
       "      <td>0.197316</td>\n",
       "      <td>0.234496</td>\n",
       "      <td>0.456791</td>\n",
       "      <td>4.562533</td>\n",
       "      <td>0.499975</td>\n",
       "    </tr>\n",
       "    <tr>\n",
       "      <th>min</th>\n",
       "      <td>0.0</td>\n",
       "      <td>0.000000</td>\n",
       "      <td>0.000000</td>\n",
       "      <td>39.000000</td>\n",
       "      <td>1.000000</td>\n",
       "      <td>0.000000</td>\n",
       "      <td>0.000000</td>\n",
       "      <td>1.000000</td>\n",
       "      <td>7.000000</td>\n",
       "      <td>1.000000</td>\n",
       "      <td>...</td>\n",
       "      <td>2.000000</td>\n",
       "      <td>121.000000</td>\n",
       "      <td>0.000000</td>\n",
       "      <td>0.000000</td>\n",
       "      <td>0.000000</td>\n",
       "      <td>0.000000</td>\n",
       "      <td>0.000000</td>\n",
       "      <td>0.000000</td>\n",
       "      <td>1.000000</td>\n",
       "      <td>0.000000</td>\n",
       "    </tr>\n",
       "    <tr>\n",
       "      <th>25%</th>\n",
       "      <td>0.0</td>\n",
       "      <td>7.000000</td>\n",
       "      <td>0.000000</td>\n",
       "      <td>49480.000000</td>\n",
       "      <td>1.000000</td>\n",
       "      <td>1.000000</td>\n",
       "      <td>1.000000</td>\n",
       "      <td>51.000000</td>\n",
       "      <td>36694.000000</td>\n",
       "      <td>89.000000</td>\n",
       "      <td>...</td>\n",
       "      <td>142.000000</td>\n",
       "      <td>13020.000000</td>\n",
       "      <td>0.000000</td>\n",
       "      <td>0.000000</td>\n",
       "      <td>0.000000</td>\n",
       "      <td>0.000000</td>\n",
       "      <td>0.000000</td>\n",
       "      <td>0.000000</td>\n",
       "      <td>3.000000</td>\n",
       "      <td>0.000000</td>\n",
       "    </tr>\n",
       "    <tr>\n",
       "      <th>50%</th>\n",
       "      <td>0.0</td>\n",
       "      <td>7.000000</td>\n",
       "      <td>0.000000</td>\n",
       "      <td>53447.000000</td>\n",
       "      <td>1.000000</td>\n",
       "      <td>1.000000</td>\n",
       "      <td>1.000000</td>\n",
       "      <td>97.000000</td>\n",
       "      <td>82373.000000</td>\n",
       "      <td>181.000000</td>\n",
       "      <td>...</td>\n",
       "      <td>500.000000</td>\n",
       "      <td>33066.000000</td>\n",
       "      <td>0.000000</td>\n",
       "      <td>0.000000</td>\n",
       "      <td>0.000000</td>\n",
       "      <td>0.000000</td>\n",
       "      <td>0.000000</td>\n",
       "      <td>0.000000</td>\n",
       "      <td>10.000000</td>\n",
       "      <td>1.000000</td>\n",
       "    </tr>\n",
       "    <tr>\n",
       "      <th>75%</th>\n",
       "      <td>0.0</td>\n",
       "      <td>7.000000</td>\n",
       "      <td>0.000000</td>\n",
       "      <td>53447.000000</td>\n",
       "      <td>2.000000</td>\n",
       "      <td>1.000000</td>\n",
       "      <td>1.000000</td>\n",
       "      <td>162.000000</td>\n",
       "      <td>122835.000000</td>\n",
       "      <td>267.000000</td>\n",
       "      <td>...</td>\n",
       "      <td>556.000000</td>\n",
       "      <td>52357.000000</td>\n",
       "      <td>1.000000</td>\n",
       "      <td>0.000000</td>\n",
       "      <td>0.000000</td>\n",
       "      <td>0.000000</td>\n",
       "      <td>0.000000</td>\n",
       "      <td>1.000000</td>\n",
       "      <td>11.000000</td>\n",
       "      <td>1.000000</td>\n",
       "    </tr>\n",
       "    <tr>\n",
       "      <th>max</th>\n",
       "      <td>0.0</td>\n",
       "      <td>8.000000</td>\n",
       "      <td>1.000000</td>\n",
       "      <td>70490.000000</td>\n",
       "      <td>5.000000</td>\n",
       "      <td>4.000000</td>\n",
       "      <td>1.000000</td>\n",
       "      <td>222.000000</td>\n",
       "      <td>167957.000000</td>\n",
       "      <td>296.000000</td>\n",
       "      <td>...</td>\n",
       "      <td>1083.000000</td>\n",
       "      <td>72091.000000</td>\n",
       "      <td>1.000000</td>\n",
       "      <td>1.000000</td>\n",
       "      <td>1.000000</td>\n",
       "      <td>1.000000</td>\n",
       "      <td>1.000000</td>\n",
       "      <td>1.000000</td>\n",
       "      <td>15.000000</td>\n",
       "      <td>1.000000</td>\n",
       "    </tr>\n",
       "  </tbody>\n",
       "</table>\n",
       "<p>8 rows × 48 columns</p>\n",
       "</div>"
      ],
      "text/plain": [
       "       IsBetaUser  RealTimeProtectionState  IsPassiveModeEnabled  \\\n",
       "count    100000.0             99934.000000         100000.000000   \n",
       "mean          0.0                 6.848430              0.017620   \n",
       "std           0.0                 1.015166              0.131566   \n",
       "min           0.0                 0.000000              0.000000   \n",
       "25%           0.0                 7.000000              0.000000   \n",
       "50%           0.0                 7.000000              0.000000   \n",
       "75%           0.0                 7.000000              0.000000   \n",
       "max           0.0                 8.000000              1.000000   \n",
       "\n",
       "       AntivirusConfigID  NumAntivirusProductsInstalled  \\\n",
       "count       99924.000000                   99924.000000   \n",
       "mean        47975.710440                       1.326528   \n",
       "std         13803.321533                       0.520681   \n",
       "min            39.000000                       1.000000   \n",
       "25%         49480.000000                       1.000000   \n",
       "50%         53447.000000                       1.000000   \n",
       "75%         53447.000000                       2.000000   \n",
       "max         70490.000000                       5.000000   \n",
       "\n",
       "       NumAntivirusProductsEnabled         HasTpm      CountryID  \\\n",
       "count                 99924.000000  100000.000000  100000.000000   \n",
       "mean                      1.018264       0.996780     108.078790   \n",
       "std                       0.155291       0.056654      63.062151   \n",
       "min                       0.000000       0.000000       1.000000   \n",
       "25%                       1.000000       1.000000      51.000000   \n",
       "50%                       1.000000       1.000000      97.000000   \n",
       "75%                       1.000000       1.000000     162.000000   \n",
       "max                       4.000000       1.000000     222.000000   \n",
       "\n",
       "              CityID    GeoRegionID  ...  FirmwareManufacturerID  \\\n",
       "count   99377.000000  100000.000000  ...            99624.000000   \n",
       "mean    81029.938587     169.741630  ...              401.987613   \n",
       "std     48944.027074      89.188929  ...              221.318891   \n",
       "min         7.000000       1.000000  ...                2.000000   \n",
       "25%     36694.000000      89.000000  ...              142.000000   \n",
       "50%     82373.000000     181.000000  ...              500.000000   \n",
       "75%    122835.000000     267.000000  ...              556.000000   \n",
       "max    167957.000000     296.000000  ...             1083.000000   \n",
       "\n",
       "       FirmwareVersionID  IsSecureBootEnabled  IsVirtualDevice  \\\n",
       "count       99666.000000        100000.000000     99980.000000   \n",
       "mean        32942.648044             0.495690         0.003841   \n",
       "std         21151.970827             0.499984         0.061855   \n",
       "min           121.000000             0.000000         0.000000   \n",
       "25%         13020.000000             0.000000         0.000000   \n",
       "50%         33066.000000             0.000000         0.000000   \n",
       "75%         52357.000000             1.000000         0.000000   \n",
       "max         72091.000000             1.000000         1.000000   \n",
       "\n",
       "       IsTouchEnabled   IsPenCapable  IsAlwaysOnAlwaysConnectedCapable  \\\n",
       "count   100000.000000  100000.000000                      99866.000000   \n",
       "mean         0.128470       0.040580                          0.058398   \n",
       "std          0.334614       0.197316                          0.234496   \n",
       "min          0.000000       0.000000                          0.000000   \n",
       "25%          0.000000       0.000000                          0.000000   \n",
       "50%          0.000000       0.000000                          0.000000   \n",
       "75%          0.000000       0.000000                          0.000000   \n",
       "max          1.000000       1.000000                          1.000000   \n",
       "\n",
       "            IsGamer  RegionIdentifier         target  \n",
       "count  99441.000000      99441.000000  100000.000000  \n",
       "mean       0.296668          7.875866       0.505250  \n",
       "std        0.456791          4.562533       0.499975  \n",
       "min        0.000000          1.000000       0.000000  \n",
       "25%        0.000000          3.000000       0.000000  \n",
       "50%        0.000000         10.000000       1.000000  \n",
       "75%        1.000000         11.000000       1.000000  \n",
       "max        1.000000         15.000000       1.000000  \n",
       "\n",
       "[8 rows x 48 columns]"
      ]
     },
     "execution_count": 14,
     "metadata": {},
     "output_type": "execute_result"
    }
   ],
   "source": [
    "# systems owned by gamers was malware detecte\n",
    "train_data.describe()"
   ]
  },
  {
   "cell_type": "code",
   "execution_count": 15,
   "id": "86d4ba63",
   "metadata": {
    "execution": {
     "iopub.execute_input": "2025-03-12T06:00:52.108825Z",
     "iopub.status.busy": "2025-03-12T06:00:52.108517Z",
     "iopub.status.idle": "2025-03-12T06:00:52.269371Z",
     "shell.execute_reply": "2025-03-12T06:00:52.268231Z"
    },
    "papermill": {
     "duration": 0.170774,
     "end_time": "2025-03-12T06:00:52.271232",
     "exception": false,
     "start_time": "2025-03-12T06:00:52.100458",
     "status": "completed"
    },
    "tags": []
   },
   "outputs": [
    {
     "name": "stdout",
     "output_type": "stream",
     "text": [
      "<class 'pandas.core.frame.DataFrame'>\n",
      "RangeIndex: 100000 entries, 0 to 99999\n",
      "Data columns (total 76 columns):\n",
      " #   Column                              Non-Null Count   Dtype  \n",
      "---  ------                              --------------   -----  \n",
      " 0   MachineID                           100000 non-null  object \n",
      " 1   ProductName                         100000 non-null  object \n",
      " 2   EngineVersion                       100000 non-null  object \n",
      " 3   AppVersion                          100000 non-null  object \n",
      " 4   SignatureVersion                    100000 non-null  object \n",
      " 5   IsBetaUser                          100000 non-null  int64  \n",
      " 6   RealTimeProtectionState             99934 non-null   float64\n",
      " 7   IsPassiveModeEnabled                100000 non-null  int64  \n",
      " 8   AntivirusConfigID                   99924 non-null   float64\n",
      " 9   NumAntivirusProductsInstalled       99924 non-null   float64\n",
      " 10  NumAntivirusProductsEnabled         99924 non-null   float64\n",
      " 11  HasTpm                              100000 non-null  int64  \n",
      " 12  CountryID                           100000 non-null  int64  \n",
      " 13  CityID                              99377 non-null   float64\n",
      " 14  GeoRegionID                         100000 non-null  float64\n",
      " 15  LocaleEnglishNameID                 100000 non-null  int64  \n",
      " 16  PlatformType                        100000 non-null  object \n",
      " 17  Processor                           100000 non-null  object \n",
      " 18  OSVersion                           100000 non-null  object \n",
      " 19  OSBuildNumber                       100000 non-null  int64  \n",
      " 20  OSProductSuite                      100000 non-null  int64  \n",
      " 21  OsPlatformSubRelease                100000 non-null  object \n",
      " 22  OSBuildLab                          100000 non-null  object \n",
      " 23  SKUEditionName                      100000 non-null  object \n",
      " 24  IsSystemProtected                   99924 non-null   float64\n",
      " 25  AutoSampleSubmissionEnabled         100000 non-null  int64  \n",
      " 26  SMode                               99019 non-null   float64\n",
      " 27  IEVersionID                         99893 non-null   float64\n",
      " 28  FirewallEnabled                     99834 non-null   float64\n",
      " 29  EnableLUA                           99981 non-null   float64\n",
      " 30  MDC2FormFactor                      100000 non-null  object \n",
      " 31  DeviceFamily                        100000 non-null  object \n",
      " 32  OEMNameID                           99788 non-null   float64\n",
      " 33  OEMModelID                          99772 non-null   float64\n",
      " 34  ProcessorCoreCount                  99915 non-null   float64\n",
      " 35  ProcessorManufacturerID             99915 non-null   float64\n",
      " 36  ProcessorModelID                    99915 non-null   float64\n",
      " 37  PrimaryDiskCapacityMB               99890 non-null   float64\n",
      " 38  PrimaryDiskType                     99977 non-null   object \n",
      " 39  SystemVolumeCapacityMB              99890 non-null   float64\n",
      " 40  HasOpticalDiskDrive                 100000 non-null  int64  \n",
      " 41  TotalPhysicalRAMMB                  99849 non-null   float64\n",
      " 42  ChassisType                         99998 non-null   object \n",
      " 43  PrimaryDisplayDiagonalInches        99928 non-null   float64\n",
      " 44  PrimaryDisplayResolutionHorizontal  99928 non-null   float64\n",
      " 45  PrimaryDisplayResolutionVertical    99928 non-null   float64\n",
      " 46  PowerPlatformRole                   100000 non-null  object \n",
      " 47  InternalBatteryNumberOfCharges      99485 non-null   float64\n",
      " 48  NumericOSVersion                    100000 non-null  object \n",
      " 49  OSArchitecture                      100000 non-null  object \n",
      " 50  OSBranch                            100000 non-null  object \n",
      " 51  OSBuildNumberOnly                   100000 non-null  int64  \n",
      " 52  OSBuildRevisionOnly                 100000 non-null  int64  \n",
      " 53  OSEdition                           100000 non-null  object \n",
      " 54  OSSkuFriendlyName                   100000 non-null  object \n",
      " 55  OSInstallType                       100000 non-null  object \n",
      " 56  OSInstallLanguageID                 99887 non-null   float64\n",
      " 57  OSUILocaleID                        100000 non-null  int64  \n",
      " 58  AutoUpdateOptionsName               100000 non-null  object \n",
      " 59  IsPortableOS                        100000 non-null  int64  \n",
      " 60  OSGenuineState                      100000 non-null  object \n",
      " 61  LicenseActivationChannel            100000 non-null  object \n",
      " 62  IsFlightsDisabled                   99674 non-null   float64\n",
      " 63  FlightRing                          100000 non-null  object \n",
      " 64  FirmwareManufacturerID              99624 non-null   float64\n",
      " 65  FirmwareVersionID                   99666 non-null   float64\n",
      " 66  IsSecureBootEnabled                 100000 non-null  int64  \n",
      " 67  IsVirtualDevice                     99980 non-null   float64\n",
      " 68  IsTouchEnabled                      100000 non-null  int64  \n",
      " 69  IsPenCapable                        100000 non-null  int64  \n",
      " 70  IsAlwaysOnAlwaysConnectedCapable    99866 non-null   float64\n",
      " 71  IsGamer                             99441 non-null   float64\n",
      " 72  RegionIdentifier                    99441 non-null   float64\n",
      " 73  DateAS                              100000 non-null  object \n",
      " 74  DateOS                              99976 non-null   object \n",
      " 75  target                              100000 non-null  int64  \n",
      "dtypes: float64(31), int64(17), object(28)\n",
      "memory usage: 58.0+ MB\n"
     ]
    }
   ],
   "source": [
    "train_data.info()"
   ]
  },
  {
   "cell_type": "code",
   "execution_count": 16,
   "id": "079c7b70",
   "metadata": {
    "execution": {
     "iopub.execute_input": "2025-03-12T06:00:52.287961Z",
     "iopub.status.busy": "2025-03-12T06:00:52.287662Z",
     "iopub.status.idle": "2025-03-12T06:00:52.433946Z",
     "shell.execute_reply": "2025-03-12T06:00:52.432982Z"
    },
    "papermill": {
     "duration": 0.156079,
     "end_time": "2025-03-12T06:00:52.435446",
     "exception": false,
     "start_time": "2025-03-12T06:00:52.279367",
     "status": "completed"
    },
    "tags": []
   },
   "outputs": [
    {
     "data": {
      "text/plain": [
       "MachineID             0\n",
       "ProductName           0\n",
       "EngineVersion         0\n",
       "AppVersion            0\n",
       "SignatureVersion      0\n",
       "                   ... \n",
       "IsGamer             559\n",
       "RegionIdentifier    559\n",
       "DateAS                0\n",
       "DateOS               24\n",
       "target                0\n",
       "Length: 76, dtype: int64"
      ]
     },
     "execution_count": 16,
     "metadata": {},
     "output_type": "execute_result"
    }
   ],
   "source": [
    "# handling NA values in \"IsGamer\" column.\n",
    "\n",
    "train_data[\"IsGamer\"].fillna(0)  ### Asumning that all are non-gamers\n",
    "train_data.isna().sum()"
   ]
  },
  {
   "cell_type": "code",
   "execution_count": 17,
   "id": "e06c6a42",
   "metadata": {
    "execution": {
     "iopub.execute_input": "2025-03-12T06:00:52.452271Z",
     "iopub.status.busy": "2025-03-12T06:00:52.451956Z",
     "iopub.status.idle": "2025-03-12T06:00:52.603083Z",
     "shell.execute_reply": "2025-03-12T06:00:52.601732Z"
    },
    "papermill": {
     "duration": 0.16115,
     "end_time": "2025-03-12T06:00:52.604761",
     "exception": false,
     "start_time": "2025-03-12T06:00:52.443611",
     "status": "completed"
    },
    "tags": []
   },
   "outputs": [
    {
     "name": "stdout",
     "output_type": "stream",
     "text": [
      "<class 'pandas.core.frame.DataFrame'>\n",
      "RangeIndex: 100000 entries, 0 to 99999\n",
      "Data columns (total 76 columns):\n",
      " #   Column                              Non-Null Count   Dtype  \n",
      "---  ------                              --------------   -----  \n",
      " 0   MachineID                           100000 non-null  object \n",
      " 1   ProductName                         100000 non-null  object \n",
      " 2   EngineVersion                       100000 non-null  object \n",
      " 3   AppVersion                          100000 non-null  object \n",
      " 4   SignatureVersion                    100000 non-null  object \n",
      " 5   IsBetaUser                          100000 non-null  int64  \n",
      " 6   RealTimeProtectionState             99934 non-null   float64\n",
      " 7   IsPassiveModeEnabled                100000 non-null  int64  \n",
      " 8   AntivirusConfigID                   99924 non-null   float64\n",
      " 9   NumAntivirusProductsInstalled       99924 non-null   float64\n",
      " 10  NumAntivirusProductsEnabled         99924 non-null   float64\n",
      " 11  HasTpm                              100000 non-null  int64  \n",
      " 12  CountryID                           100000 non-null  int64  \n",
      " 13  CityID                              99377 non-null   float64\n",
      " 14  GeoRegionID                         100000 non-null  float64\n",
      " 15  LocaleEnglishNameID                 100000 non-null  int64  \n",
      " 16  PlatformType                        100000 non-null  object \n",
      " 17  Processor                           100000 non-null  object \n",
      " 18  OSVersion                           100000 non-null  object \n",
      " 19  OSBuildNumber                       100000 non-null  int64  \n",
      " 20  OSProductSuite                      100000 non-null  int64  \n",
      " 21  OsPlatformSubRelease                100000 non-null  object \n",
      " 22  OSBuildLab                          100000 non-null  object \n",
      " 23  SKUEditionName                      100000 non-null  object \n",
      " 24  IsSystemProtected                   99924 non-null   float64\n",
      " 25  AutoSampleSubmissionEnabled         100000 non-null  int64  \n",
      " 26  SMode                               99019 non-null   float64\n",
      " 27  IEVersionID                         99893 non-null   float64\n",
      " 28  FirewallEnabled                     99834 non-null   float64\n",
      " 29  EnableLUA                           99981 non-null   float64\n",
      " 30  MDC2FormFactor                      100000 non-null  object \n",
      " 31  DeviceFamily                        100000 non-null  object \n",
      " 32  OEMNameID                           99788 non-null   float64\n",
      " 33  OEMModelID                          99772 non-null   float64\n",
      " 34  ProcessorCoreCount                  99915 non-null   float64\n",
      " 35  ProcessorManufacturerID             99915 non-null   float64\n",
      " 36  ProcessorModelID                    99915 non-null   float64\n",
      " 37  PrimaryDiskCapacityMB               99890 non-null   float64\n",
      " 38  PrimaryDiskType                     99977 non-null   object \n",
      " 39  SystemVolumeCapacityMB              99890 non-null   float64\n",
      " 40  HasOpticalDiskDrive                 100000 non-null  int64  \n",
      " 41  TotalPhysicalRAMMB                  99849 non-null   float64\n",
      " 42  ChassisType                         99998 non-null   object \n",
      " 43  PrimaryDisplayDiagonalInches        99928 non-null   float64\n",
      " 44  PrimaryDisplayResolutionHorizontal  99928 non-null   float64\n",
      " 45  PrimaryDisplayResolutionVertical    99928 non-null   float64\n",
      " 46  PowerPlatformRole                   100000 non-null  object \n",
      " 47  InternalBatteryNumberOfCharges      99485 non-null   float64\n",
      " 48  NumericOSVersion                    100000 non-null  object \n",
      " 49  OSArchitecture                      100000 non-null  object \n",
      " 50  OSBranch                            100000 non-null  object \n",
      " 51  OSBuildNumberOnly                   100000 non-null  int64  \n",
      " 52  OSBuildRevisionOnly                 100000 non-null  int64  \n",
      " 53  OSEdition                           100000 non-null  object \n",
      " 54  OSSkuFriendlyName                   100000 non-null  object \n",
      " 55  OSInstallType                       100000 non-null  object \n",
      " 56  OSInstallLanguageID                 99887 non-null   float64\n",
      " 57  OSUILocaleID                        100000 non-null  int64  \n",
      " 58  AutoUpdateOptionsName               100000 non-null  object \n",
      " 59  IsPortableOS                        100000 non-null  int64  \n",
      " 60  OSGenuineState                      100000 non-null  object \n",
      " 61  LicenseActivationChannel            100000 non-null  object \n",
      " 62  IsFlightsDisabled                   99674 non-null   float64\n",
      " 63  FlightRing                          100000 non-null  object \n",
      " 64  FirmwareManufacturerID              99624 non-null   float64\n",
      " 65  FirmwareVersionID                   99666 non-null   float64\n",
      " 66  IsSecureBootEnabled                 100000 non-null  int64  \n",
      " 67  IsVirtualDevice                     99980 non-null   float64\n",
      " 68  IsTouchEnabled                      100000 non-null  int64  \n",
      " 69  IsPenCapable                        100000 non-null  int64  \n",
      " 70  IsAlwaysOnAlwaysConnectedCapable    99866 non-null   float64\n",
      " 71  IsGamer                             99441 non-null   float64\n",
      " 72  RegionIdentifier                    99441 non-null   float64\n",
      " 73  DateAS                              100000 non-null  object \n",
      " 74  DateOS                              99976 non-null   object \n",
      " 75  target                              100000 non-null  int64  \n",
      "dtypes: float64(31), int64(17), object(28)\n",
      "memory usage: 58.0+ MB\n"
     ]
    }
   ],
   "source": [
    "# Fixing datatypes of columns \n",
    "\n",
    "train_data.info()"
   ]
  },
  {
   "cell_type": "code",
   "execution_count": 18,
   "id": "328cbbe1",
   "metadata": {
    "execution": {
     "iopub.execute_input": "2025-03-12T06:00:52.621548Z",
     "iopub.status.busy": "2025-03-12T06:00:52.621226Z",
     "iopub.status.idle": "2025-03-12T06:00:52.626676Z",
     "shell.execute_reply": "2025-03-12T06:00:52.625875Z"
    },
    "papermill": {
     "duration": 0.01519,
     "end_time": "2025-03-12T06:00:52.628053",
     "exception": false,
     "start_time": "2025-03-12T06:00:52.612863",
     "status": "completed"
    },
    "tags": []
   },
   "outputs": [],
   "source": [
    "train_data[\"IsGamer\"] = train_data[\"IsGamer\"].astype(\"float\")\n",
    "train_data[\"target\"] = train_data[\"target\"].astype(\"float\")"
   ]
  },
  {
   "cell_type": "code",
   "execution_count": null,
   "id": "56cfeb08",
   "metadata": {
    "papermill": {
     "duration": 0.007464,
     "end_time": "2025-03-12T06:00:52.643588",
     "exception": false,
     "start_time": "2025-03-12T06:00:52.636124",
     "status": "completed"
    },
    "tags": []
   },
   "outputs": [],
   "source": []
  },
  {
   "cell_type": "code",
   "execution_count": 19,
   "id": "991e1268",
   "metadata": {
    "execution": {
     "iopub.execute_input": "2025-03-12T06:00:52.660032Z",
     "iopub.status.busy": "2025-03-12T06:00:52.659749Z",
     "iopub.status.idle": "2025-03-12T06:00:52.717122Z",
     "shell.execute_reply": "2025-03-12T06:00:52.716165Z"
    },
    "papermill": {
     "duration": 0.067321,
     "end_time": "2025-03-12T06:00:52.718670",
     "exception": false,
     "start_time": "2025-03-12T06:00:52.651349",
     "status": "completed"
    },
    "tags": []
   },
   "outputs": [
    {
     "data": {
      "text/plain": [
       "MachineID           16294\n",
       "ProductName         16294\n",
       "EngineVersion       16294\n",
       "AppVersion          16294\n",
       "SignatureVersion    16294\n",
       "                    ...  \n",
       "IsGamer             16294\n",
       "RegionIdentifier    16294\n",
       "DateAS              16294\n",
       "DateOS              16293\n",
       "target              16294\n",
       "Length: 76, dtype: int64"
      ]
     },
     "execution_count": 19,
     "metadata": {},
     "output_type": "execute_result"
    }
   ],
   "source": [
    "train_data[( train_data[\"target\"].isin([1.0] )) & ( train_data[\"IsGamer\"].isin([1.0] ))].count()\n",
    "\n",
    "## Problem faced while runniung this function\n",
    "# 1. IsGamer column had null values that's why it doesn't worked\n",
    "# 2. these two columns has different data types so comparision is not possible"
   ]
  },
  {
   "cell_type": "code",
   "execution_count": 20,
   "id": "e573479a",
   "metadata": {
    "execution": {
     "iopub.execute_input": "2025-03-12T06:00:52.735822Z",
     "iopub.status.busy": "2025-03-12T06:00:52.735519Z",
     "iopub.status.idle": "2025-03-12T06:00:52.738952Z",
     "shell.execute_reply": "2025-03-12T06:00:52.738073Z"
    },
    "papermill": {
     "duration": 0.013338,
     "end_time": "2025-03-12T06:00:52.740317",
     "exception": false,
     "start_time": "2025-03-12T06:00:52.726979",
     "status": "completed"
    },
    "tags": []
   },
   "outputs": [],
   "source": [
    "# train_data[\"IsPassiveModeEnabled\"].isna().sum()\n",
    "# train_data[\"RealTimeProtectionState\"].isna().sum()\n",
    "# train_data[\"RealTimeProtectionState\"] = train_data[\"RealTimeProtectionState\"].fillna(method=\"ffill\")\n"
   ]
  },
  {
   "cell_type": "code",
   "execution_count": 21,
   "id": "96d1677e",
   "metadata": {
    "execution": {
     "iopub.execute_input": "2025-03-12T06:00:52.756944Z",
     "iopub.status.busy": "2025-03-12T06:00:52.756663Z",
     "iopub.status.idle": "2025-03-12T06:00:52.763080Z",
     "shell.execute_reply": "2025-03-12T06:00:52.762212Z"
    },
    "papermill": {
     "duration": 0.016216,
     "end_time": "2025-03-12T06:00:52.764452",
     "exception": false,
     "start_time": "2025-03-12T06:00:52.748236",
     "status": "completed"
    },
    "tags": []
   },
   "outputs": [
    {
     "data": {
      "text/plain": [
       "MachineID            object\n",
       "ProductName          object\n",
       "EngineVersion        object\n",
       "AppVersion           object\n",
       "SignatureVersion     object\n",
       "                     ...   \n",
       "IsGamer             float64\n",
       "RegionIdentifier    float64\n",
       "DateAS               object\n",
       "DateOS               object\n",
       "target              float64\n",
       "Length: 76, dtype: object"
      ]
     },
     "execution_count": 21,
     "metadata": {},
     "output_type": "execute_result"
    }
   ],
   "source": [
    "train_data.dtypes   #data types of all the columns."
   ]
  },
  {
   "cell_type": "code",
   "execution_count": 22,
   "id": "fa488e9e",
   "metadata": {
    "execution": {
     "iopub.execute_input": "2025-03-12T06:00:52.781530Z",
     "iopub.status.busy": "2025-03-12T06:00:52.781192Z",
     "iopub.status.idle": "2025-03-12T06:00:52.817395Z",
     "shell.execute_reply": "2025-03-12T06:00:52.816468Z"
    },
    "papermill": {
     "duration": 0.046434,
     "end_time": "2025-03-12T06:00:52.818953",
     "exception": false,
     "start_time": "2025-03-12T06:00:52.772519",
     "status": "completed"
    },
    "tags": []
   },
   "outputs": [
    {
     "data": {
      "text/plain": [
       "['IsBetaUser',\n",
       " 'RealTimeProtectionState',\n",
       " 'IsPassiveModeEnabled',\n",
       " 'AntivirusConfigID',\n",
       " 'NumAntivirusProductsInstalled',\n",
       " 'NumAntivirusProductsEnabled',\n",
       " 'HasTpm',\n",
       " 'CountryID',\n",
       " 'CityID',\n",
       " 'GeoRegionID',\n",
       " 'LocaleEnglishNameID',\n",
       " 'OSBuildNumber',\n",
       " 'OSProductSuite',\n",
       " 'IsSystemProtected',\n",
       " 'AutoSampleSubmissionEnabled',\n",
       " 'SMode',\n",
       " 'IEVersionID',\n",
       " 'FirewallEnabled',\n",
       " 'EnableLUA',\n",
       " 'OEMNameID',\n",
       " 'OEMModelID',\n",
       " 'ProcessorCoreCount',\n",
       " 'ProcessorManufacturerID',\n",
       " 'ProcessorModelID',\n",
       " 'PrimaryDiskCapacityMB',\n",
       " 'SystemVolumeCapacityMB',\n",
       " 'HasOpticalDiskDrive',\n",
       " 'TotalPhysicalRAMMB',\n",
       " 'PrimaryDisplayDiagonalInches',\n",
       " 'PrimaryDisplayResolutionHorizontal',\n",
       " 'PrimaryDisplayResolutionVertical',\n",
       " 'InternalBatteryNumberOfCharges',\n",
       " 'OSBuildNumberOnly',\n",
       " 'OSBuildRevisionOnly',\n",
       " 'OSInstallLanguageID',\n",
       " 'OSUILocaleID',\n",
       " 'IsPortableOS',\n",
       " 'IsFlightsDisabled',\n",
       " 'FirmwareManufacturerID',\n",
       " 'FirmwareVersionID',\n",
       " 'IsSecureBootEnabled',\n",
       " 'IsVirtualDevice',\n",
       " 'IsTouchEnabled',\n",
       " 'IsPenCapable',\n",
       " 'IsAlwaysOnAlwaysConnectedCapable',\n",
       " 'IsGamer',\n",
       " 'RegionIdentifier',\n",
       " 'target']"
      ]
     },
     "execution_count": 22,
     "metadata": {},
     "output_type": "execute_result"
    }
   ],
   "source": [
    "int_cols = list(train_data.select_dtypes(exclude=object))\n",
    "int_cols"
   ]
  },
  {
   "cell_type": "code",
   "execution_count": 23,
   "id": "55b9bd0c",
   "metadata": {
    "execution": {
     "iopub.execute_input": "2025-03-12T06:00:52.836474Z",
     "iopub.status.busy": "2025-03-12T06:00:52.836153Z",
     "iopub.status.idle": "2025-03-12T06:00:52.839632Z",
     "shell.execute_reply": "2025-03-12T06:00:52.838788Z"
    },
    "papermill": {
     "duration": 0.013713,
     "end_time": "2025-03-12T06:00:52.841182",
     "exception": false,
     "start_time": "2025-03-12T06:00:52.827469",
     "status": "completed"
    },
    "tags": []
   },
   "outputs": [],
   "source": [
    "import seaborn as sns"
   ]
  },
  {
   "cell_type": "code",
   "execution_count": 24,
   "id": "0ffc44ee",
   "metadata": {
    "execution": {
     "iopub.execute_input": "2025-03-12T06:00:52.858804Z",
     "iopub.status.busy": "2025-03-12T06:00:52.858512Z",
     "iopub.status.idle": "2025-03-12T06:00:52.925369Z",
     "shell.execute_reply": "2025-03-12T06:00:52.924385Z"
    },
    "papermill": {
     "duration": 0.077813,
     "end_time": "2025-03-12T06:00:52.927327",
     "exception": false,
     "start_time": "2025-03-12T06:00:52.849514",
     "status": "completed"
    },
    "tags": []
   },
   "outputs": [],
   "source": [
    "train_data[int_cols].isna().sum()\n",
    "\n",
    "raw_corr_data = train_data[int_cols].fillna(0)"
   ]
  },
  {
   "cell_type": "code",
   "execution_count": 25,
   "id": "41bb3e9c",
   "metadata": {
    "execution": {
     "iopub.execute_input": "2025-03-12T06:00:52.945693Z",
     "iopub.status.busy": "2025-03-12T06:00:52.945349Z",
     "iopub.status.idle": "2025-03-12T06:00:53.130423Z",
     "shell.execute_reply": "2025-03-12T06:00:53.129428Z"
    },
    "papermill": {
     "duration": 0.195702,
     "end_time": "2025-03-12T06:00:53.132009",
     "exception": false,
     "start_time": "2025-03-12T06:00:52.936307",
     "status": "completed"
    },
    "tags": []
   },
   "outputs": [
    {
     "data": {
      "text/plain": [
       "['ProductName',\n",
       " 'PlatformType',\n",
       " 'Processor',\n",
       " 'OSVersion',\n",
       " 'OsPlatformSubRelease',\n",
       " 'SKUEditionName',\n",
       " 'DeviceFamily',\n",
       " 'PrimaryDiskType',\n",
       " 'PowerPlatformRole',\n",
       " 'OSArchitecture',\n",
       " 'OSInstallType',\n",
       " 'AutoUpdateOptionsName',\n",
       " 'OSGenuineState',\n",
       " 'LicenseActivationChannel',\n",
       " 'FlightRing']"
      ]
     },
     "execution_count": 25,
     "metadata": {},
     "output_type": "execute_result"
    }
   ],
   "source": [
    "# cat_data_upto_10_unique\n",
    "cat_df = train_data.select_dtypes(include=object)\n",
    "cat_df.head()\n",
    "# cat_df.drop()\n",
    "# upto_10_unique.head()\n",
    "upto_10_unique = [ col for col in cat_df.columns if cat_df[col].nunique() <= 10  ]\n",
    "upto_10_unique"
   ]
  },
  {
   "cell_type": "code",
   "execution_count": null,
   "id": "979d6feb",
   "metadata": {
    "papermill": {
     "duration": 0.008016,
     "end_time": "2025-03-12T06:00:53.148691",
     "exception": false,
     "start_time": "2025-03-12T06:00:53.140675",
     "status": "completed"
    },
    "tags": []
   },
   "outputs": [],
   "source": []
  },
  {
   "cell_type": "markdown",
   "id": "608244bf",
   "metadata": {
    "papermill": {
     "duration": 0.007862,
     "end_time": "2025-03-12T06:00:53.164722",
     "exception": false,
     "start_time": "2025-03-12T06:00:53.156860",
     "status": "completed"
    },
    "tags": []
   },
   "source": [
    "# Preprocessing"
   ]
  },
  {
   "cell_type": "markdown",
   "id": "e4cc0288",
   "metadata": {
    "execution": {
     "iopub.status.busy": "2025-03-12T04:14:57.136584Z",
     "iopub.status.idle": "2025-03-12T04:14:57.136912Z",
     "shell.execute_reply": "2025-03-12T04:14:57.136777Z"
    },
    "papermill": {
     "duration": 0.007968,
     "end_time": "2025-03-12T06:00:53.180858",
     "exception": false,
     "start_time": "2025-03-12T06:00:53.172890",
     "status": "completed"
    },
    "tags": []
   },
   "source": [
    "# Random Forest Classifier"
   ]
  },
  {
   "cell_type": "code",
   "execution_count": null,
   "id": "8f601f60",
   "metadata": {
    "papermill": {
     "duration": 0.007818,
     "end_time": "2025-03-12T06:00:53.196827",
     "exception": false,
     "start_time": "2025-03-12T06:00:53.189009",
     "status": "completed"
    },
    "tags": []
   },
   "outputs": [],
   "source": []
  },
  {
   "cell_type": "code",
   "execution_count": 26,
   "id": "67724f52",
   "metadata": {
    "execution": {
     "iopub.execute_input": "2025-03-12T06:00:53.214306Z",
     "iopub.status.busy": "2025-03-12T06:00:53.213956Z",
     "iopub.status.idle": "2025-03-12T06:00:53.219936Z",
     "shell.execute_reply": "2025-03-12T06:00:53.218891Z"
    },
    "papermill": {
     "duration": 0.016285,
     "end_time": "2025-03-12T06:00:53.221306",
     "exception": false,
     "start_time": "2025-03-12T06:00:53.205021",
     "status": "completed"
    },
    "tags": []
   },
   "outputs": [
    {
     "name": "stdout",
     "output_type": "stream",
     "text": [
      "Index(['MachineID', 'ProductName', 'EngineVersion', 'AppVersion',\n",
      "       'SignatureVersion', 'IsBetaUser', 'RealTimeProtectionState',\n",
      "       'IsPassiveModeEnabled', 'AntivirusConfigID',\n",
      "       'NumAntivirusProductsInstalled', 'NumAntivirusProductsEnabled',\n",
      "       'HasTpm', 'CountryID', 'CityID', 'GeoRegionID', 'LocaleEnglishNameID',\n",
      "       'PlatformType', 'Processor', 'OSVersion', 'OSBuildNumber',\n",
      "       'OSProductSuite', 'OsPlatformSubRelease', 'OSBuildLab',\n",
      "       'SKUEditionName', 'IsSystemProtected', 'AutoSampleSubmissionEnabled',\n",
      "       'SMode', 'IEVersionID', 'FirewallEnabled', 'EnableLUA',\n",
      "       'MDC2FormFactor', 'DeviceFamily', 'OEMNameID', 'OEMModelID',\n",
      "       'ProcessorCoreCount', 'ProcessorManufacturerID', 'ProcessorModelID',\n",
      "       'PrimaryDiskCapacityMB', 'PrimaryDiskType', 'SystemVolumeCapacityMB',\n",
      "       'HasOpticalDiskDrive', 'TotalPhysicalRAMMB', 'ChassisType',\n",
      "       'PrimaryDisplayDiagonalInches', 'PrimaryDisplayResolutionHorizontal',\n",
      "       'PrimaryDisplayResolutionVertical', 'PowerPlatformRole',\n",
      "       'InternalBatteryNumberOfCharges', 'NumericOSVersion', 'OSArchitecture',\n",
      "       'OSBranch', 'OSBuildNumberOnly', 'OSBuildRevisionOnly', 'OSEdition',\n",
      "       'OSSkuFriendlyName', 'OSInstallType', 'OSInstallLanguageID',\n",
      "       'OSUILocaleID', 'AutoUpdateOptionsName', 'IsPortableOS',\n",
      "       'OSGenuineState', 'LicenseActivationChannel', 'IsFlightsDisabled',\n",
      "       'FlightRing', 'FirmwareManufacturerID', 'FirmwareVersionID',\n",
      "       'IsSecureBootEnabled', 'IsVirtualDevice', 'IsTouchEnabled',\n",
      "       'IsPenCapable', 'IsAlwaysOnAlwaysConnectedCapable', 'IsGamer',\n",
      "       'RegionIdentifier', 'DateAS', 'DateOS'],\n",
      "      dtype='object') Index(['MachineID', 'ProductName', 'EngineVersion', 'AppVersion',\n",
      "       'SignatureVersion', 'IsBetaUser', 'RealTimeProtectionState',\n",
      "       'IsPassiveModeEnabled', 'AntivirusConfigID',\n",
      "       'NumAntivirusProductsInstalled', 'NumAntivirusProductsEnabled',\n",
      "       'HasTpm', 'CountryID', 'CityID', 'GeoRegionID', 'LocaleEnglishNameID',\n",
      "       'PlatformType', 'Processor', 'OSVersion', 'OSBuildNumber',\n",
      "       'OSProductSuite', 'OsPlatformSubRelease', 'OSBuildLab',\n",
      "       'SKUEditionName', 'IsSystemProtected', 'AutoSampleSubmissionEnabled',\n",
      "       'SMode', 'IEVersionID', 'FirewallEnabled', 'EnableLUA',\n",
      "       'MDC2FormFactor', 'DeviceFamily', 'OEMNameID', 'OEMModelID',\n",
      "       'ProcessorCoreCount', 'ProcessorManufacturerID', 'ProcessorModelID',\n",
      "       'PrimaryDiskCapacityMB', 'PrimaryDiskType', 'SystemVolumeCapacityMB',\n",
      "       'HasOpticalDiskDrive', 'TotalPhysicalRAMMB', 'ChassisType',\n",
      "       'PrimaryDisplayDiagonalInches', 'PrimaryDisplayResolutionHorizontal',\n",
      "       'PrimaryDisplayResolutionVertical', 'PowerPlatformRole',\n",
      "       'InternalBatteryNumberOfCharges', 'NumericOSVersion', 'OSArchitecture',\n",
      "       'OSBranch', 'OSBuildNumberOnly', 'OSBuildRevisionOnly', 'OSEdition',\n",
      "       'OSSkuFriendlyName', 'OSInstallType', 'OSInstallLanguageID',\n",
      "       'OSUILocaleID', 'AutoUpdateOptionsName', 'IsPortableOS',\n",
      "       'OSGenuineState', 'LicenseActivationChannel', 'IsFlightsDisabled',\n",
      "       'FlightRing', 'FirmwareManufacturerID', 'FirmwareVersionID',\n",
      "       'IsSecureBootEnabled', 'IsVirtualDevice', 'IsTouchEnabled',\n",
      "       'IsPenCapable', 'IsAlwaysOnAlwaysConnectedCapable', 'IsGamer',\n",
      "       'RegionIdentifier', 'DateAS', 'DateOS', 'target'],\n",
      "      dtype='object')\n"
     ]
    }
   ],
   "source": [
    "print(test_data.columns, train_data.columns)"
   ]
  },
  {
   "cell_type": "code",
   "execution_count": null,
   "id": "5b1af8dd",
   "metadata": {
    "papermill": {
     "duration": 0.007914,
     "end_time": "2025-03-12T06:00:53.237626",
     "exception": false,
     "start_time": "2025-03-12T06:00:53.229712",
     "status": "completed"
    },
    "tags": []
   },
   "outputs": [],
   "source": []
  },
  {
   "cell_type": "code",
   "execution_count": null,
   "id": "9de9203b",
   "metadata": {
    "papermill": {
     "duration": 0.007994,
     "end_time": "2025-03-12T06:00:53.253798",
     "exception": false,
     "start_time": "2025-03-12T06:00:53.245804",
     "status": "completed"
    },
    "tags": []
   },
   "outputs": [],
   "source": []
  }
 ],
 "metadata": {
  "kaggle": {
   "accelerator": "none",
   "dataSources": [
    {
     "databundleVersionId": 10592855,
     "sourceId": 90791,
     "sourceType": "competition"
    }
   ],
   "dockerImageVersionId": 30839,
   "isGpuEnabled": false,
   "isInternetEnabled": true,
   "language": "python",
   "sourceType": "notebook"
  },
  "kernelspec": {
   "display_name": "Python 3",
   "language": "python",
   "name": "python3"
  },
  "language_info": {
   "codemirror_mode": {
    "name": "ipython",
    "version": 3
   },
   "file_extension": ".py",
   "mimetype": "text/x-python",
   "name": "python",
   "nbconvert_exporter": "python",
   "pygments_lexer": "ipython3",
   "version": "3.10.12"
  },
  "papermill": {
   "default_parameters": {},
   "duration": 21.423679,
   "end_time": "2025-03-12T06:00:54.082682",
   "environment_variables": {},
   "exception": null,
   "input_path": "__notebook__.ipynb",
   "output_path": "__notebook__.ipynb",
   "parameters": {},
   "start_time": "2025-03-12T06:00:32.659003",
   "version": "2.6.0"
  }
 },
 "nbformat": 4,
 "nbformat_minor": 5
}
